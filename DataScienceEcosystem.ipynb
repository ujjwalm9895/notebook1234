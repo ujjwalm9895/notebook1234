{
 "cells": [
  {
   "cell_type": "markdown",
   "metadata": {},
   "source": [
    "<center>\n",
    "    <img src=\"https://cf-courses-data.s3.us.cloud-object-storage.appdomain.cloud/IBMDeveloperSkillsNetwork-DS0105EN-SkillsNetwork/labs/Module2/images/SN_web_lightmode.png\" width=\"300\" alt=\"cognitiveclass.ai logo\">\n",
    "</center>\n"
   ]
  },
  {
   "cell_type": "markdown",
   "metadata": {},
   "source": [
    "#### Add your code below following the instructions given in the course\n"
   ]
  },
  {
   "cell_type": "markdown",
   "metadata": {},
   "source": [
    "# **DataScienceEcosystem**\n"
   ]
  },
  {
   "cell_type": "markdown",
   "metadata": {},
   "source": [
    "## Introduction\n",
    "\n",
    "Hello everyone,\n",
    "\n",
    "I'm thrilled to present my final project for this course! Throughout the course, I've delved into various data science tools, and now, I'm excited to demonstrate my skills by creating and sharing a JupyterLite Notebook using Skills Network labs.\n",
    "\n",
    "In this project, I'll be showcasing my understanding of the course materials and my ability to effectively use Jupyter notebooks for data analysis and visualization. I've put in a lot of effort to ensure this project reflects my knowledge and passion for data science.\n",
    "\n",
    "I hope you enjoy exploring my notebook as much as I enjoyed creating it!\n",
    "\n",
    "Best regards,\n",
    "[Your Name]\n"
   ]
  },
  {
   "cell_type": "markdown",
   "metadata": {},
   "source": [
    "## Let's Explore Some Popular Data Science Languages!\n",
    "\n",
    "Alright, buckle up! We're about to take a whirlwind tour of some of the coolest languages in the data science universe. These languages are the secret sauce behind some of the most mind-blowing data analyses, machine learning models, and visualizations out there.\n",
    "\n",
    "Ready? Here we go:\n",
    "\n",
    "1. **Python**: Ah, Python, the Swiss Army knife of data science! With its simplicity, versatility, and vast ecosystem of libraries like pandas, numpy, and scikit-learn, Python has become the go-to language for data scientists worldwide. Whether you're wrangling messy datasets, training machine learning models, or creating stunning visualizations, Python has got your back.\n",
    "\n",
    "2. **R**: Next up, we have R, the statistical powerhouse! If you're a fan of elegant statistical analysis, R is your best friend. With its extensive collection of packages like ggplot2, dplyr, and caret, R makes it a breeze to explore datasets, perform complex analyses, and create beautiful visualizations. Plus, RStudio, the integrated development environment (IDE) for R, provides a seamless workflow for data science projects.\n",
    "\n",
    "3. **SQL**: Last but not least, we have SQL, the language of databases! While not traditionally considered a \"programming\" language, SQL plays a crucial role in the data science toolkit. With SQL, you can query databases, extract valuable insights, and perform essential data manipulation tasks. Whether you're working with structured data in relational databases or big data in distributed systems, SQL is an essential skill for any data scientist.\n",
    "\n",
    "And there you have it, folks! These are just a few of the languages that data scientists wield like magic wands to unlock the mysteries hidden within data. So, whether you're a Pythonista, an R aficionado, or a SQL ninja, remember that the world of data science is yours to explore!\n",
    "\n",
    "Let's dive deeper into the wonders of data science together!\n"
   ]
  },
  {
   "cell_type": "markdown",
   "metadata": {},
   "source": [
    "## Let's Explore Some Essential Data Science Libraries!\n",
    "\n",
    "Ready to level up your data science game? These libraries are the secret sauce behind some of the most powerful data analyses, machine learning models, and visualizations out there. Let's dive in and discover what makes them so awesome!\n",
    "\n",
    "### Some of the commonly used libraries used by Data Scientists include:\n",
    "\n",
    "1. **Pandas**: Ah, Pandas, the bread and butter of data manipulation! If you've ever needed to clean, transform, or analyze tabular data, Pandas is your best friend. With its intuitive DataFrame structure and powerful functions, Pandas makes it a breeze to explore datasets, perform complex operations, and extract valuable insights.\n",
    "\n",
    "2. **NumPy**: Next up, we have NumPy, the backbone of numerical computing in Python! Behind the scenes, NumPy provides the foundation for many other Python libraries, enabling efficient storage and manipulation of large arrays and matrices. Whether you're crunching numbers, performing linear algebra operations, or working with multi-dimensional data, NumPy's got your back.\n",
    "\n",
    "3. **Scikit-learn**: Now, let's talk about Scikit-learn, the Swiss Army knife of machine learning in Python! Whether you're a seasoned data scientist or just dipping your toes into the world of machine learning, Scikit-learn has something for you. With its user-friendly interface and extensive collection of algorithms, Scikit-learn makes it easy to build, train, and evaluate machine learning models for classification, regression, clustering, and more.\n",
    "\n",
    "And there you have it, folks! These are just a few of the libraries that data scientists rely on every day to tackle real-world problems and unlock the full potential of their data. So, whether you're wrangling data with Pandas, crunching numbers with NumPy, or building machine learning models with Scikit-learn, remember that the world of data science is yours to explore!\n",
    "\n",
    "Let's dive deeper into the wonderful world of data science together!\n"
   ]
  },
  {
   "cell_type": "markdown",
   "metadata": {},
   "source": [
    "## Data Science Tools\n",
    "\n",
    "| Data Science Tools |\n",
    "|---------------------|\n",
    "| Jupyter Notebook    |\n",
    "| RStudio             |\n",
    "| VS Code             |\n"
   ]
  },
  {
   "cell_type": "markdown",
   "metadata": {},
   "source": [
    "### Below are a few examples of evaluating arithmetic expressions in Python.\n"
   ]
  },
  {
   "cell_type": "code",
   "execution_count": 6,
   "metadata": {
    "tags": []
   },
   "outputs": [
    {
     "name": "stdout",
     "output_type": "stream",
     "text": [
      "17\n"
     ]
    }
   ],
   "source": [
    "result = (3*4)+5 \n",
    "print(result)"
   ]
  },
  {
   "cell_type": "code",
   "execution_count": null,
   "metadata": {},
   "outputs": [],
   "source": []
  },
  {
   "cell_type": "markdown",
   "metadata": {},
   "source": []
  },
  {
   "cell_type": "markdown",
   "metadata": {
    "jupyter": {
     "source_hidden": true
    },
    "tags": []
   },
   "source": []
  },
  {
   "cell_type": "markdown",
   "metadata": {},
   "source": [
    "b"
   ]
  },
  {
   "cell_type": "markdown",
   "metadata": {},
   "source": [
    "## Author\n",
    "\n",
    "Ujjwal Madawat\n"
   ]
  },
  {
   "cell_type": "code",
   "execution_count": null,
   "metadata": {},
   "outputs": [],
   "source": []
  },
  {
   "cell_type": "code",
   "execution_count": null,
   "metadata": {},
   "outputs": [],
   "source": []
  },
  {
   "cell_type": "code",
   "execution_count": null,
   "metadata": {},
   "outputs": [],
   "source": []
  },
  {
   "cell_type": "code",
   "execution_count": null,
   "metadata": {},
   "outputs": [],
   "source": []
  },
  {
   "cell_type": "code",
   "execution_count": null,
   "metadata": {},
   "outputs": [],
   "source": []
  },
  {
   "cell_type": "code",
   "execution_count": null,
   "metadata": {},
   "outputs": [],
   "source": []
  },
  {
   "cell_type": "code",
   "execution_count": null,
   "metadata": {},
   "outputs": [],
   "source": []
  },
  {
   "cell_type": "code",
   "execution_count": null,
   "metadata": {},
   "outputs": [],
   "source": []
  },
  {
   "cell_type": "code",
   "execution_count": null,
   "metadata": {},
   "outputs": [],
   "source": []
  },
  {
   "cell_type": "code",
   "execution_count": null,
   "metadata": {},
   "outputs": [],
   "source": []
  },
  {
   "cell_type": "code",
   "execution_count": null,
   "metadata": {},
   "outputs": [],
   "source": []
  }
 ],
 "metadata": {
  "kernelspec": {
   "display_name": "Python",
   "language": "python",
   "name": "conda-env-python-py"
  },
  "language_info": {
   "codemirror_mode": {
    "name": "ipython",
    "version": 3
   },
   "file_extension": ".py",
   "mimetype": "text/x-python",
   "name": "python",
   "nbconvert_exporter": "python",
   "pygments_lexer": "ipython3",
   "version": "3.7.12"
  }
 },
 "nbformat": 4,
 "nbformat_minor": 4
}
